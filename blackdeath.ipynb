{
 "cells": [
  {
   "cell_type": "code",
   "execution_count": null,
   "metadata": {},
   "outputs": [],
   "source": [
    "# Import libraries\n",
    "import csv\n",
    "import matplotlib\n",
    "import matplotlib.pyplot\n",
    "matplotlib.use('TkAgg')\n",
    "from matplotlib import colors\n",
    "import tkinter\n",
    "from tkinter import simpledialog"
   ]
  },
  {
   "cell_type": "code",
   "execution_count": null,
   "metadata": {},
   "outputs": [],
   "source": [
    "# Create lists\n",
    "population = []\n",
    "poprow = []\n",
    "ratscaught = []\n",
    "ratsrow = []\n",
    "deaths=[]\n",
    "deathrow=[]\n",
    "deathstotal=[]"
   ]
  },
  {
   "cell_type": "code",
   "execution_count": null,
   "metadata": {},
   "outputs": [],
   "source": [
    "### Reading in data ###\n",
    "\n",
    "# Read in population data to population list\n",
    "f = open('death.parishes.txt', newline='')\n",
    "\n",
    "reader = csv.reader(f, quoting=csv.QUOTE_NONNUMERIC)\n",
    "for row in reader:    \n",
    "    population.append(row)\n",
    "    poprow = []\n",
    "    for people in row:\n",
    "        poprow.append(people)\n",
    "    \n",
    "f.close()"
   ]
  },
  {
   "cell_type": "code",
   "execution_count": null,
   "metadata": {},
   "outputs": [],
   "source": [
    "\"\"\"\n",
    "# Test data import by finding total\n",
    "poptotal=[]\n",
    "for poprow in population:\n",
    "    poptotal.append((sum(poprow)))\n",
    "\n",
    "print(sum(poptotal))\n",
    "\"\"\""
   ]
  },
  {
   "cell_type": "code",
   "execution_count": null,
   "metadata": {},
   "outputs": [],
   "source": [
    "# Read in data of average rats caught to ratscaught list\n",
    "f = open('death.rats.txt', newline='')\n",
    "\n",
    "reader = csv.reader(f, quoting=csv.QUOTE_NONNUMERIC)\n",
    "for value in reader:\n",
    "    ratsrow=[]\n",
    "    ratscaught.append(value)\n",
    "    for rat in value:\n",
    "        ratsrow.append(rat)\n",
    "    \n",
    "f.close()"
   ]
  },
  {
   "cell_type": "code",
   "execution_count": null,
   "metadata": {},
   "outputs": [],
   "source": [
    "\"\"\"\n",
    "# Test data import by finding total\n",
    "rattotal=[]\n",
    "for ratsrow in ratscaught:\n",
    "    rattotal.append((sum(ratsrow)))\n",
    "print(sum(rattotal))\n",
    "\"\"\""
   ]
  },
  {
   "cell_type": "code",
   "execution_count": null,
   "metadata": {},
   "outputs": [],
   "source": [
    "### Defining functions ###\n",
    "\n",
    "# Define function to create map\n",
    "# Set map area\n",
    "# Remove tick labels\n",
    "# Set colour bar\n",
    "# Set title name\n",
    "# Display map\n",
    "\n",
    "def create_map(datalist, titlename):\n",
    "    fig,ax = matplotlib.pyplot.subplots()\n",
    "    cmap = colors.ListedColormap(['#FFFFFF', '#E2E2E2', '#C6C6C6', '#AAAAAA',\n",
    "                                  '#8D8D8D', '#717171', '#555555', '#383838',\n",
    "                                  '#1C1C1C', '#000000'])\n",
    "    ax.set_yticklabels([])\n",
    "    ax.set_xticklabels([])\n",
    "    matplotlib.pyplot.title(titlename)\n",
    "    matplotlib.pyplot.imshow(datalist, cmap=cmap)\n",
    "    matplotlib.pyplot.colorbar()"
   ]
  },
  {
   "cell_type": "code",
   "execution_count": null,
   "metadata": {},
   "outputs": [],
   "source": [
    "# Create map using population data\n",
    "def runpop():\n",
    "    create_map(population, 'Population density')"
   ]
  },
  {
   "cell_type": "code",
   "execution_count": null,
   "metadata": {},
   "outputs": [],
   "source": [
    "# Create map using rats caught data\n",
    "def runrat():\n",
    "    create_map(ratscaught, 'Numbers of rats caught') "
   ]
  },
  {
   "cell_type": "code",
   "execution_count": null,
   "metadata": {},
   "outputs": [],
   "source": [
    "# Get user input for equation weighting\n",
    "# Calculate deaths data\n",
    "# Create map using deaths data\n",
    "    \n",
    "def rundeath():\n",
    "    rat_inp = simpledialog.askfloat(title=\"Input\",\n",
    "                                  prompt=\"What is the rat weighting?:\",\n",
    "                                  initialvalue=0.8)\n",
    "\n",
    "\n",
    "    pop_inp = simpledialog.askfloat(title=\"Input\",\n",
    "                                  prompt=\"What is the population weighting?:\",\n",
    "                                  initialvalue=1.3)\n",
    "\n",
    "    calc_deaths(rat_inp,pop_inp)\n",
    "    create_map(deaths, 'Estimated deaths')"
   ]
  },
  {
   "cell_type": "code",
   "execution_count": null,
   "metadata": {},
   "outputs": [],
   "source": [
    "# Get user input for equation weighting\n",
    "# Calculate deaths data\n",
    "# Save deaths data to directory as txt\n",
    "# Display message to tell user data is saved\n",
    "    \n",
    "def maketxt():\n",
    "    rat_inp = simpledialog.askfloat(title=\"Input\",\n",
    "                                  prompt=\"What is the rat weighting?:\",\n",
    "                                  initialvalue=0.8)\n",
    "\n",
    "\n",
    "    pop_inp = simpledialog.askfloat(title=\"Input\",\n",
    "                                  prompt=\"What is the population weighting?:\",\n",
    "                                  initialvalue=1.3)\n",
    "\n",
    "    calc_deaths(rat_inp,pop_inp)\n",
    "    f = open('death.deaths.txt','w', newline='\\n')\n",
    "    newfile = csv.writer(f)\n",
    "    for deathrow in deaths:\n",
    "        newfile.writerow(deathrow)\n",
    "    tkinter.messagebox.showinfo(\"File saved\", ('Deaths data saved to current directory'))\n",
    "    f.close()"
   ]
  },
  {
   "cell_type": "code",
   "execution_count": null,
   "metadata": {},
   "outputs": [],
   "source": [
    "# Close window to exit\n",
    "def close_window(): \n",
    "    root.destroy()"
   ]
  },
  {
   "cell_type": "code",
   "execution_count": null,
   "metadata": {},
   "outputs": [],
   "source": [
    "# Get user input for equation weighting\n",
    "# Calculate deaths data\n",
    "# Sum deaths data to find total number of deaths\n",
    "# Display total in message    \n",
    "    \n",
    "def total_deaths():    \n",
    "    rat_inp = simpledialog.askfloat(title=\"Input\",\n",
    "                                  prompt=\"What is the rat weighting?:\",\n",
    "                                  initialvalue=0.8)\n",
    "\n",
    "\n",
    "    pop_inp = simpledialog.askfloat(title=\"Input\",\n",
    "                                  prompt=\"What is the population weighting?:\",\n",
    "                                  initialvalue=1.3)\n",
    "\n",
    "    calc_deaths(rat_inp,pop_inp)\n",
    "    \n",
    "    for deathrow in deaths:\n",
    "        deathstotal=[]\n",
    "        deathstotal.append((sum(deathrow)))\n",
    "    deathsum = sum(deathstotal)\n",
    "    tkinter.messagebox.showinfo(\"Total deaths\", ('The estimated total number of deaths is ' + str(deathsum)))"
   ]
  },
  {
   "cell_type": "code",
   "execution_count": null,
   "metadata": {},
   "outputs": [],
   "source": [
    "# Simultaneously read population and rat caughts data to find data pairs\n",
    "# Caluclate death figure using data pairs and weighting from input\n",
    "    \n",
    "def calc_deaths(rat_inp,pop_inp):    \n",
    "    for poprow, ratsrow in zip(population, ratscaught):\n",
    "        deathrow=[]\n",
    "        for p, r in zip(poprow, ratsrow):\n",
    "            d = (rat_inp*r)*(pop_inp*p)\n",
    "            deathrow.append(d)\n",
    "        deaths.append(deathrow)\n",
    "    \"\"\"\n",
    "    # Test contents of deaths list\n",
    "    print(deaths)\n",
    "    \"\"\""
   ]
  },
  {
   "cell_type": "code",
   "execution_count": null,
   "metadata": {},
   "outputs": [],
   "source": [
    "### Create GUI ###\n",
    "\n",
    "fig, ax = matplotlib.pyplot.subplots()\n",
    "\n",
    "# Set opening canvas with introductary text\n",
    "root = tkinter.Tk()\n",
    "root.geometry('400x400')\n",
    "c = tkinter.Canvas(root, height=400, width =400, bg=\"white\")\n",
    "c.create_text(200,40,text='The Black Death hit London in 1665.\\nSelect the options on the menu bar to find out more.')\n",
    "c.pack()"
   ]
  },
  {
   "cell_type": "code",
   "execution_count": null,
   "metadata": {},
   "outputs": [],
   "source": [
    "#  Create model canvas\n",
    "root.wm_title(\"Model\")\n",
    "canvas = matplotlib.backends.backend_tkagg.FigureCanvasTkAgg(fig, master=root)\n",
    "canvas._tkcanvas.pack(side=tkinter.TOP, fill=tkinter.BOTH, expand=1)"
   ]
  },
  {
   "cell_type": "code",
   "execution_count": null,
   "metadata": {},
   "outputs": [],
   "source": [
    "# Create menu and commands to run functions\n",
    "menu_bar = tkinter.Menu(root)\n",
    "root.config(menu=menu_bar)\n",
    "model_menu = tkinter.Menu(menu_bar)\n",
    "menu_bar.add_cascade(label=\"Model\", menu=model_menu)\n",
    "model_menu.add_command(label=\"Population graph\", command=runpop)\n",
    "model_menu.add_command(label=\"Rat population graph\", command=runrat)\n",
    "model_menu.add_command(label=\"Estimated deaths graph\", command=rundeath)\n",
    "model_menu.add_command(label=\"Show total deaths\", command=total_deaths)\n",
    "model_menu.add_command(label=\"Save deaths data as txt\", command=maketxt)\n",
    "model_menu.add_command(label=\"Exit\", command=close_window)"
   ]
  },
  {
   "cell_type": "code",
   "execution_count": null,
   "metadata": {},
   "outputs": [],
   "source": [
    "tkinter.mainloop()"
   ]
  }
 ],
 "metadata": {
  "kernelspec": {
   "display_name": "Python 3",
   "language": "python",
   "name": "python3"
  },
  "language_info": {
   "codemirror_mode": {
    "name": "ipython",
    "version": 3
   },
   "file_extension": ".py",
   "mimetype": "text/x-python",
   "name": "python",
   "nbconvert_exporter": "python",
   "pygments_lexer": "ipython3",
   "version": "3.7.3"
  }
 },
 "nbformat": 4,
 "nbformat_minor": 2
}
